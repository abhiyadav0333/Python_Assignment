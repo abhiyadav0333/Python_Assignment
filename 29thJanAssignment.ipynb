{
 "cells": [
  {
   "cell_type": "code",
   "execution_count": 1,
   "id": "343fab03-7d72-4810-bad9-663053e8d16f",
   "metadata": {},
   "outputs": [],
   "source": [
    "# Ans1. Python developed by \"Guido Van Rossum\" in 1991.\n",
    "        Python developed by \"Guido Van Rossum\" in 1991."
   ]
  },
  {
   "cell_type": "code",
   "execution_count": 4,
   "id": "96880102-459a-4092-9ad5-305d1376c297",
   "metadata": {},
   "outputs": [],
   "source": [
    "# Ans2. python \"object-oriented programming\" & \"Structired programming\"\n",
    "#       are Supported.\n",
    "        python \"object-oriented programming\" & \"Structired programming\"\n",
    "        are Supported."
   ]
  },
  {
   "cell_type": "code",
   "execution_count": 12,
   "id": "8617feca-9268-4fb8-966f-b681c677ac6e",
   "metadata": {},
   "outputs": [
    {
     "name": "stdout",
     "output_type": "stream",
     "text": [
      "10 5\n"
     ]
    }
   ],
   "source": [
    "# Ans3. Python is case-sensitive language.\n",
    "#   i.e  A=10\n",
    "#        a=5\n",
    "A=10\n",
    "a=5\n",
    "print(A,a)"
   ]
  },
  {
   "cell_type": "code",
   "execution_count": null,
   "id": "a5733c92-9527-4f25-b88d-450be3aad9a1",
   "metadata": {},
   "outputs": [],
   "source": [
    "# Ans 4: Pyhthon file correct extensions \".py\" \n",
    "         python file coreect extensions \".py\""
   ]
  },
  {
   "cell_type": "code",
   "execution_count": null,
   "id": "245a659e-30fc-48b3-b51a-2afe41e7aa24",
   "metadata": {},
   "outputs": [],
   "source": [
    "# Ans 5: pyhthon code is an interpreted.\n",
    "         python code is an interpreted."
   ]
  },
  {
   "cell_type": "code",
   "execution_count": null,
   "id": "62b802af-005f-4714-9d9c-6e9664d4e958",
   "metadata": {},
   "outputs": [],
   "source": [
    "# Ans 6: Indentation is used to define a block of code in python.\n",
    "         Indentation is used to define a block of code in python."
   ]
  },
  {
   "cell_type": "code",
   "execution_count": null,
   "id": "2fd4164a-ddb5-4fb4-93a5-cf3130c32c6b",
   "metadata": {},
   "outputs": [],
   "source": [
    "# Ans 7: Single-line comment by adding a single \"#\" character.\n",
    "         single-line comment by adding a single \"#\" character."
   ]
  },
  {
   "cell_type": "code",
   "execution_count": null,
   "id": "c32de16b-5ccb-407a-bcfa-0e4d96edffe9",
   "metadata": {},
   "outputs": [],
   "source": [
    "# Ans 8: Sys.version are functions use to check current working on version\n",
    "#       in python.\n",
    "        Sys.version are functions use to check current working on version \n",
    "        in python."
   ]
  },
  {
   "cell_type": "code",
   "execution_count": null,
   "id": "e9d96b49-df5e-42b0-a829-425c07133d0f",
   "metadata": {},
   "outputs": [],
   "source": [
    "# Ans 9: Python supports to make anonymous functions which are not bound to a\n",
    "#         name(@ runtime). It uses a construct called \"lambda\".\n",
    "         Python supports to make anonymous functions which are not bound to a \n",
    "          name(@ runtime). It uses a construct called \"lambda\"."
   ]
  },
  {
   "cell_type": "code",
   "execution_count": null,
   "id": "1ae5cb7a-efea-4aef-b269-c002f3f6319d",
   "metadata": {},
   "outputs": [],
   "source": [
    "# Ans 10: Pip Stand for \"preferred installer program\"\n",
    "         Pip Stand for \"preferred installer program\""
   ]
  },
  {
   "cell_type": "code",
   "execution_count": null,
   "id": "80b64176-568c-402f-9794-219bae6e538d",
   "metadata": {},
   "outputs": [],
   "source": [
    "# Ans 11: Some Python Built-in Functions\n",
    "# (i)   type()\n",
    "# (ii)  print()\n",
    "# (iii) input()\n",
    "# (iv)  len()\n",
    "# (v)   sum()"
   ]
  },
  {
   "cell_type": "code",
   "execution_count": null,
   "id": "3280b012-5fbd-45ef-844e-d9e78c3080de",
   "metadata": {},
   "outputs": [],
   "source": [
    "# Ans 12: Python identifiers are unlimited in length\n",
    "          Python identifiers are unlimited in length"
   ]
  },
  {
   "cell_type": "code",
   "execution_count": null,
   "id": "9fe230fb-8e00-4607-9247-73006e0a29e3",
   "metadata": {},
   "outputs": [],
   "source": [
    "# Ans 13: Benefits of python\n",
    "#      1.   write a less code.\n",
    "#      2.   Flexibility.\n",
    "#      3.   Security.\n",
    "#      4.   Vast Libraries Support.\n",
    "#      5.   Interpreted Language."
   ]
  },
  {
   "cell_type": "code",
   "execution_count": null,
   "id": "34acd691-e6b8-44c1-a60e-aaab600f9fdd",
   "metadata": {},
   "outputs": [],
   "source": [
    "# Ans 14: Python memory is managed by Python private heap space.\n",
    "          Python memory is managed by Python private heap space."
   ]
  },
  {
   "cell_type": "code",
   "execution_count": null,
   "id": "fbb375f5-8135-4525-b0c2-ef68edef7055",
   "metadata": {},
   "outputs": [],
   "source": [
    "# Ans 15: Python install & Set path by following these steps:\n",
    "#       1.Right-clicking This PC and going to Properties.\n",
    "#       2.Clicking on the Advanced system settings in the menu on the left.\n",
    "#       3.Clicking on the Environment Variables button on the bottom right.\n",
    "#       4.In the System variables section, selecting the Path variable and clicking on Edit. The next screen will show all the directories that are currently a part of the PATH variable.\n",
    "#       5.Clicking on New and entering Python’s install directory."
   ]
  },
  {
   "cell_type": "code",
   "execution_count": null,
   "id": "883d2550-a14d-40ea-97b5-c68eaa62296b",
   "metadata": {},
   "outputs": [],
   "source": [
    "# Ans 16: \"Yes\" indentation in Python is very important.\n",
    "#          Python uses indentation to indicate a block of code."
   ]
  }
 ],
 "metadata": {
  "kernelspec": {
   "display_name": "Python 3 (ipykernel)",
   "language": "python",
   "name": "python3"
  },
  "language_info": {
   "codemirror_mode": {
    "name": "ipython",
    "version": 3
   },
   "file_extension": ".py",
   "mimetype": "text/x-python",
   "name": "python",
   "nbconvert_exporter": "python",
   "pygments_lexer": "ipython3",
   "version": "3.10.8"
  }
 },
 "nbformat": 4,
 "nbformat_minor": 5
}
