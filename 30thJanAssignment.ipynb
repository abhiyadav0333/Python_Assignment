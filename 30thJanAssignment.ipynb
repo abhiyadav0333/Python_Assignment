{
 "cells": [
  {
   "cell_type": "code",
   "execution_count": 5,
   "id": "0a635fab-c7d5-4cb1-af30-6c8fe0bdfeae",
   "metadata": {},
   "outputs": [
    {
     "name": "stdin",
     "output_type": "stream",
     "text": [
      "Enter the Marks: 25\n"
     ]
    },
    {
     "name": "stdout",
     "output_type": "stream",
     "text": [
      "Grade D\n"
     ]
    }
   ],
   "source": [
    "# Ans 1:\n",
    "Marks=int(input(\"Enter the Marks:\"))\n",
    "if Marks>90:\n",
    "    print(\"Grade A\")\n",
    "elif Marks>80 and Marks<=90:\n",
    "    print(\"Grade B\")\n",
    "elif Marks >=60 and Marks<=80:\n",
    "    print(\"Grade C\")\n",
    "else:\n",
    "    print(\"Grade D\")"
   ]
  },
  {
   "cell_type": "code",
   "execution_count": 6,
   "id": "a4f745ae-0ca7-4bb0-8e18-39fe0eb8a53b",
   "metadata": {},
   "outputs": [
    {
     "name": "stdin",
     "output_type": "stream",
     "text": [
      "Enter the Cost price 80000\n"
     ]
    },
    {
     "name": "stdout",
     "output_type": "stream",
     "text": [
      "Tax 10%\n"
     ]
    }
   ],
   "source": [
    "# Ans 2.\n",
    "Costprice =int(input(\"Enter the Cost price\"))\n",
    "if Costprice>100000:\n",
    "    print(\" Tax 15%\")\n",
    "elif Costprice>50000 and Costprice<=100000:\n",
    "    print(\"Tax 10%\")\n",
    "else:\n",
    "    print(\"Tax 5%\")"
   ]
  },
  {
   "cell_type": "code",
   "execution_count": 10,
   "id": "0a850831-731e-4a9b-86ac-c8e58b530e5b",
   "metadata": {},
   "outputs": [
    {
     "name": "stdin",
     "output_type": "stream",
     "text": [
      "Enter the City Delhi\n"
     ]
    },
    {
     "name": "stdout",
     "output_type": "stream",
     "text": [
      " Monument Red Fort\n"
     ]
    }
   ],
   "source": [
    "# Ans 3:\n",
    "city=input(\"Enter the City\")\n",
    "if city ==\"Delhi\":\n",
    "    print(\" Monument Red Fort\")\n",
    "elif city ==\"Agra\":\n",
    "    print(\"Monument Taj Mahal\")\n",
    "elif city ==\"Jaipur\":\n",
    "    print(\"Monument Jal Mahal\")\n",
    "else:\n",
    "    print(\"enter the valid City\")"
   ]
  },
  {
   "cell_type": "code",
   "execution_count": 8,
   "id": "8f8069a0-cf97-4a2a-9b4d-11bc9820e48b",
   "metadata": {},
   "outputs": [
    {
     "name": "stdin",
     "output_type": "stream",
     "text": [
      "Enter the Number 90\n"
     ]
    },
    {
     "name": "stdout",
     "output_type": "stream",
     "text": [
      "Number divided by 3 2 times\n"
     ]
    }
   ],
   "source": [
    "# Ans 4:\n",
    "Number=int(input(\"Enter the Number\"))\n",
    "count=0\n",
    "while Number >10:\n",
    "    Number /=3\n",
    "    count +=1\n",
    "print(\"Number divided by 3\",count,\"times\")"
   ]
  },
  {
   "cell_type": "code",
   "execution_count": 9,
   "id": "d8aaf897-91cf-4bcb-a6a5-dd4ebae9dcc9",
   "metadata": {},
   "outputs": [
    {
     "name": "stdout",
     "output_type": "stream",
     "text": [
      "0\n",
      "1\n",
      "2\n",
      "3\n",
      "4\n",
      "5\n"
     ]
    }
   ],
   "source": [
    "# Ans 5: A While statement is a loop. Basically it is countinues to executive\n",
    "#     the code in the while statement for however long the expression is true.\n",
    "# Example Code.\n",
    "i=0\n",
    "while i<=5:\n",
    "    print(i)\n",
    "    i+=1"
   ]
  },
  {
   "cell_type": "code",
   "execution_count": 28,
   "id": "31b790ca-db12-405c-965e-01e9a6e889f1",
   "metadata": {},
   "outputs": [
    {
     "name": "stdin",
     "output_type": "stream",
     "text": [
      "Enter the Number 5\n"
     ]
    },
    {
     "name": "stdout",
     "output_type": "stream",
     "text": [
      "* \n",
      "* * \n",
      "* * * \n",
      "* * * * \n",
      "* * * * * \n"
     ]
    }
   ],
   "source": [
    "# Ans 6:\n",
    "# Pattern 1.\n",
    "Num=int(input(\"Enter the Number\"))\n",
    "for i in range(1,Num+1):\n",
    "    for j in range(1,i+1):\n",
    "        print(\"*\",end=\" \")\n",
    "    print(\"\\r\")"
   ]
  },
  {
   "cell_type": "code",
   "execution_count": 3,
   "id": "ada5b41e-b18c-4070-997c-d52f58d858cf",
   "metadata": {},
   "outputs": [
    {
     "name": "stdin",
     "output_type": "stream",
     "text": [
      "Enter the Number 5\n"
     ]
    },
    {
     "name": "stdout",
     "output_type": "stream",
     "text": [
      "A \n",
      "B C \n",
      "D E F \n",
      "G H I J \n",
      "K L M N O \n"
     ]
    }
   ],
   "source": [
    "# patter 2.\n",
    "Num=int(input(\"Enter the Number\"))\n",
    "N=65\n",
    "for i in range(1,Num+1):\n",
    "    for j in range(1,i+1):\n",
    "        ch=chr(N)\n",
    "        print(ch,end=\" \")\n",
    "        N=N+1\n",
    "    print(\"\\r\")"
   ]
  },
  {
   "cell_type": "code",
   "execution_count": 4,
   "id": "8ab19026-0404-41ea-b326-1295414743bc",
   "metadata": {},
   "outputs": [
    {
     "name": "stdin",
     "output_type": "stream",
     "text": [
      "Enter the Number 5\n"
     ]
    },
    {
     "name": "stdout",
     "output_type": "stream",
     "text": [
      "A \n",
      "B B \n",
      "C C C \n",
      "D D D D \n",
      "E E E E E \n"
     ]
    }
   ],
   "source": [
    "# patter 3.\n",
    "Num=int(input(\"Enter the Number\"))\n",
    "N=65\n",
    "for i in range(1,Num+1):\n",
    "    for j in range(1,i+1):\n",
    "        ch=chr(N)\n",
    "        print(ch,end=\" \")\n",
    "    N=N+1\n",
    "    print(\"\\r\")"
   ]
  },
  {
   "cell_type": "code",
   "execution_count": 1,
   "id": "8c430e7d-2d03-41ca-9dc8-4b70fe714b91",
   "metadata": {},
   "outputs": [
    {
     "name": "stdout",
     "output_type": "stream",
     "text": [
      "10\n",
      "9\n",
      "8\n",
      "7\n",
      "6\n",
      "5\n",
      "4\n",
      "3\n",
      "2\n",
      "1\n"
     ]
    }
   ],
   "source": [
    "# Ans 7:\n",
    "i=10\n",
    "while i >0:\n",
    "    print(i)\n",
    "    i=i-1"
   ]
  },
  {
   "cell_type": "code",
   "execution_count": 2,
   "id": "4853c40d-f8bc-4d2f-9faf-d597220ee3df",
   "metadata": {},
   "outputs": [
    {
     "name": "stdout",
     "output_type": "stream",
     "text": [
      "5\n",
      "4\n",
      "3\n",
      "2\n",
      "1\n",
      "0\n"
     ]
    }
   ],
   "source": [
    "# Ans 8:\n",
    "a=5\n",
    "while a>=0:\n",
    "    print(a)\n",
    "    a=a-1"
   ]
  },
  {
   "cell_type": "code",
   "execution_count": null,
   "id": "b86b7b23-677b-4db2-b201-8ea9630e4515",
   "metadata": {},
   "outputs": [],
   "source": []
  }
 ],
 "metadata": {
  "kernelspec": {
   "display_name": "Python 3 (ipykernel)",
   "language": "python",
   "name": "python3"
  },
  "language_info": {
   "codemirror_mode": {
    "name": "ipython",
    "version": 3
   },
   "file_extension": ".py",
   "mimetype": "text/x-python",
   "name": "python",
   "nbconvert_exporter": "python",
   "pygments_lexer": "ipython3",
   "version": "3.10.8"
  }
 },
 "nbformat": 4,
 "nbformat_minor": 5
}
