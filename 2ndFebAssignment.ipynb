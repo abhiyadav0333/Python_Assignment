{
 "cells": [
  {
   "cell_type": "code",
   "execution_count": null,
   "id": "b490f1a1-4fa2-4f7c-97e6-61985caa5592",
   "metadata": {},
   "outputs": [],
   "source": [
    "# Ans1:  For Loop: A for loop is an iteration method that is best used \n",
    "#        when you know the number of iterations ahead of time.\n",
    "\n",
    "#        While Loop: A while loop is an iteration method that is best used \n",
    "#        when you don't know the number of iterations ahead of time."
   ]
  },
  {
   "cell_type": "code",
   "execution_count": 2,
   "id": "768b068d-d529-42f4-a36a-13d6b7becb23",
   "metadata": {},
   "outputs": [
    {
     "name": "stdout",
     "output_type": "stream",
     "text": [
      "1\n",
      "2\n",
      "3\n",
      "4\n",
      "5\n"
     ]
    }
   ],
   "source": [
    "# i.e for loop\n",
    "x=[1,2,3,4,5]\n",
    "for i in x:\n",
    "    print(i)\n",
    "    i=i+1"
   ]
  },
  {
   "cell_type": "code",
   "execution_count": 4,
   "id": "e71e9abd-0b1e-42a2-a398-97cfd973d4b4",
   "metadata": {},
   "outputs": [
    {
     "name": "stdout",
     "output_type": "stream",
     "text": [
      "0\n",
      "1\n",
      "2\n",
      "3\n",
      "4\n",
      "5\n"
     ]
    }
   ],
   "source": [
    "# i.e while loop\n",
    "x=0\n",
    "while x<=5:\n",
    "    print(x)\n",
    "    x=x+1"
   ]
  },
  {
   "cell_type": "code",
   "execution_count": 5,
   "id": "48c4d026-61bb-4a30-beb5-03db24a636b3",
   "metadata": {},
   "outputs": [
    {
     "data": {
      "text/plain": [
       "55"
      ]
     },
     "execution_count": 5,
     "metadata": {},
     "output_type": "execute_result"
    }
   ],
   "source": [
    "#Ans 2: (i) For loop\n",
    "x=[1,2,3,4,5,6,7,8,9,10]\n",
    "sum=0\n",
    "for i in x:\n",
    "    sum=sum+i\n",
    "sum "
   ]
  },
  {
   "cell_type": "code",
   "execution_count": 6,
   "id": "fc2cc821-b3c3-4634-881a-d38563f7dcf7",
   "metadata": {},
   "outputs": [
    {
     "name": "stdout",
     "output_type": "stream",
     "text": [
      "55\n"
     ]
    }
   ],
   "source": [
    "# Ans 2:(ii) While loop\n",
    "x=0\n",
    "sum=0\n",
    "while x<=10:\n",
    "    sum=sum+x\n",
    "    x=x+1\n",
    "print(sum)"
   ]
  },
  {
   "cell_type": "code",
   "execution_count": 9,
   "id": "882d072b-4741-416f-8706-53877ba63627",
   "metadata": {},
   "outputs": [
    {
     "name": "stdin",
     "output_type": "stream",
     "text": [
      "enter the electricity Unit 310\n"
     ]
    },
    {
     "name": "stdout",
     "output_type": "stream",
     "text": [
      "2250.0\n"
     ]
    }
   ],
   "source": [
    "#Ans 3:\n",
    "e_u=int(input(\"enter the electricity Unit\"))\n",
    "if e_u<=100:\n",
    "    print(e_u*4.5)\n",
    "elif e_u<=200 and e_u>100:\n",
    "    print(100*4.5+(e_u-100)*6)\n",
    "elif e_u<=300 and e_u>200:\n",
    "    print((100*4.5)+(100*6)+(e_u-200)*10)\n",
    "else:\n",
    "    print((100*4.5)+(100*6)+(100*10)+(e_u-300)*20)"
   ]
  },
  {
   "cell_type": "code",
   "execution_count": 1,
   "id": "044a334b-5a3f-4b78-98c7-f38bb58dc4e4",
   "metadata": {},
   "outputs": [
    {
     "name": "stdout",
     "output_type": "stream",
     "text": [
      "[2, 4, 5, 6, 8, 10, 12, 14, 15, 16, 18, 20, 22, 24, 25, 26, 28, 30, 32, 34, 35, 36, 38, 40, 42, 44, 45, 46, 48, 50, 52, 54, 55, 56, 58, 60, 62, 64, 65, 66, 68, 70, 72, 74, 75, 76, 78, 80, 82, 84, 85, 86, 88, 90, 92, 94, 95, 96, 98, 100]\n"
     ]
    }
   ],
   "source": [
    "# Ans 4: for loop\n",
    "number=list(range(1,101))\n",
    "result=[]\n",
    "for i in number:\n",
    "    cube=i**3\n",
    "    if cube % 4 == 0 or cube % 5 == 0:\n",
    "        result.append(i)\n",
    "print(result)"
   ]
  },
  {
   "cell_type": "code",
   "execution_count": 2,
   "id": "7fffb0f6-6492-45dd-8a6f-ea1a12ea82ae",
   "metadata": {},
   "outputs": [
    {
     "name": "stdout",
     "output_type": "stream",
     "text": [
      "[2, 4, 5, 6, 8, 10, 12, 14, 15, 16, 18, 20, 22, 24, 25, 26, 28, 30, 32, 34, 35, 36, 38, 40, 42, 44, 45, 46, 48, 50, 52, 54, 55, 56, 58, 60, 62, 64, 65, 66, 68, 70, 72, 74, 75, 76, 78, 80, 82, 84, 85, 86, 88, 90, 92, 94, 95, 96, 98, 100]\n"
     ]
    }
   ],
   "source": [
    "# Ans 4: while loop\n",
    "number = list(range(1, 101))\n",
    "result = []\n",
    "i = 0\n",
    "while i < len(number):\n",
    "    cube = number[i]**3\n",
    "    if cube % 4 == 0 or cube % 5 == 0:\n",
    "        result.append(number[i])\n",
    "    i += 1\n",
    "print(result)"
   ]
  },
  {
   "cell_type": "code",
   "execution_count": 3,
   "id": "90368e59-f071-4b7d-9246-4f6f918fcf36",
   "metadata": {},
   "outputs": [
    {
     "name": "stdout",
     "output_type": "stream",
     "text": [
      "Number of vowels: 12\n"
     ]
    }
   ],
   "source": [
    "# Ans 5:\n",
    "string = \"i want to become a data scientist\"\n",
    "vowels = \"aeiouAEIOU\"\n",
    "count = len(list(filter(lambda char: char in vowels, string)))\n",
    "print(\"Number of vowels:\", count)"
   ]
  },
  {
   "cell_type": "code",
   "execution_count": null,
   "id": "67e0ab45-8c52-4fbc-9e09-eed4142d4838",
   "metadata": {},
   "outputs": [],
   "source": []
  }
 ],
 "metadata": {
  "kernelspec": {
   "display_name": "Python 3 (ipykernel)",
   "language": "python",
   "name": "python3"
  },
  "language_info": {
   "codemirror_mode": {
    "name": "ipython",
    "version": 3
   },
   "file_extension": ".py",
   "mimetype": "text/x-python",
   "name": "python",
   "nbconvert_exporter": "python",
   "pygments_lexer": "ipython3",
   "version": "3.10.8"
  }
 },
 "nbformat": 4,
 "nbformat_minor": 5
}
